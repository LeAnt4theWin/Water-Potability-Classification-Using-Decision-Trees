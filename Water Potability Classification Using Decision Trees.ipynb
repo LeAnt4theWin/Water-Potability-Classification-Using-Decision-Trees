{
 "cells": [
  {
   "cell_type": "markdown",
   "id": "62719393",
   "metadata": {},
   "source": [
    "# Water Potability Classification Using Decision Trees vs KNN\n",
    "### Introduction\n",
    "In this project, Ill be using the water potability dataset (from kaggle) to predict water potability based on several physicochemical features. The goal is to classify water samples into two categories: potable (safe to drink) and not potable. Ill be using a Decision Tree Classifier and the KNN Classifier. This is addressing SDG # 6 which is access to clean drinking water. "
   ]
  },
  {
   "cell_type": "code",
   "execution_count": 148,
   "id": "748d6429",
   "metadata": {},
   "outputs": [],
   "source": [
    "import pandas as pd\n",
    "import numpy as np\n",
    "import matplotlib.pyplot as plt\n",
    "import seaborn as sns\n",
    "from sklearn.model_selection import train_test_split\n",
    "from sklearn.preprocessing import StandardScaler\n",
    "from sklearn.tree import DecisionTreeClassifier\n",
    "from sklearn.metrics import accuracy_score, classification_report\n"
   ]
  },
  {
   "cell_type": "markdown",
   "id": "60e05021",
   "metadata": {},
   "source": [
    "Dataset Loading: I loaded the water potability dataset from a CSV file that was founded from kaggle https://www.kaggle.com/datasets/ranvirpoddar/water-potability. The dataset includes various features related to water quality and a target variable Potability indicating whether the water is safe for drinking (1) or not (0). There was some data discripencys in terms of Nan values. "
   ]
  },
  {
   "cell_type": "code",
   "execution_count": 149,
   "id": "df4a6a2a",
   "metadata": {},
   "outputs": [],
   "source": [
    "data_dir = pd.read_csv(r\"C:\\Users\\leant\\Downloads\\water_potability.csv\")\n"
   ]
  },
  {
   "cell_type": "markdown",
   "id": "603f20be",
   "metadata": {},
   "source": [
    "Handling Missing Values: I address missing values by replacing them with the mode (the most frequently occurring value) of each column."
   ]
  },
  {
   "cell_type": "code",
   "execution_count": 130,
   "id": "8f4c5570",
   "metadata": {},
   "outputs": [],
   "source": [
    "for column in data_dir.columns:\n",
    "    data_dir[column].fillna(data_dir[column].median(), inplace=True)\n",
    "\n"
   ]
  },
  {
   "cell_type": "markdown",
   "id": "cd7856a0",
   "metadata": {},
   "source": [
    "Target Variable (y): The Potability column, which we'll predict.\n",
    "Features (X): All other columns, which are used as input variables to predict the target."
   ]
  },
  {
   "cell_type": "code",
   "execution_count": 131,
   "id": "51edf47c",
   "metadata": {},
   "outputs": [],
   "source": [
    "y = pd.Series(data_dir['Potability'], name='Potability')\n",
    "X = data_dir.drop('Potability', axis=1)"
   ]
  },
  {
   "cell_type": "markdown",
   "id": "83b0c7df",
   "metadata": {},
   "source": [
    "Train-Test Split: We split the data into training (90%) and testing (10%) sets.\n",
    "Decision Tree Classifier: We train a Decision Tree Classifier. Decision trees are easy to interpret and don't require linear features or interactions."
   ]
  },
  {
   "cell_type": "code",
   "execution_count": 146,
   "id": "0abdf030",
   "metadata": {},
   "outputs": [],
   "source": [
    "X_train, X_test, y_train, y_test = train_test_split(X, y, test_size=0.1)\n",
    "clf = DecisionTreeClassifier()\n",
    "clf.fit(X_train, y_train)\n",
    "y_pred = clf.predict(X_test)\n"
   ]
  },
  {
   "cell_type": "code",
   "execution_count": 147,
   "id": "4319aee7",
   "metadata": {},
   "outputs": [
    {
     "name": "stdout",
     "output_type": "stream",
     "text": [
      "Accuracy: 0.6371951219512195\n",
      "Classification Report:\n",
      "               precision    recall  f1-score   support\n",
      "\n",
      "           0       0.66      0.71      0.69       184\n",
      "           1       0.60      0.54      0.57       144\n",
      "\n",
      "    accuracy                           0.64       328\n",
      "   macro avg       0.63      0.63      0.63       328\n",
      "weighted avg       0.63      0.64      0.63       328\n",
      "\n"
     ]
    }
   ],
   "source": [
    "print(\"Accuracy:\", accuracy_score(y_test, y_pred))\n",
    "print(\"Classification Report:\\n\", classification_report(y_test, y_pred))\n"
   ]
  },
  {
   "cell_type": "markdown",
   "id": "455ce3d6",
   "metadata": {},
   "source": [
    "## Accuracy (63.7%): \n",
    "Reflects the overall percentage of correctly predicted instances. Here, the accuracy is moderate, suggesting room for improvement.\n",
    "## Precision and Recall:\n",
    "Class 0 (Not Potable): \n",
    "Precision of 0.66 means that 66% of instances predicted as not potable were correct. Recall of 0.71 means that 71% of all not potable instances were identified.\n",
    "\n",
    "Class 1 (Potable): \n",
    "Lower precision (0.60) and recall (0.54), indicating a little less reliability in predicting potable instances.\n",
    "## F1-Score:\n",
    "Harmonic mean of precision and recall. For class 0, it's 0.69, and for class 1, it's 0.57, reflecting some imbalances in performance between the classes. It is better at classfiying water as non drinkable, which can be good, but the tradeoffs for false-negitives which can be expensive to correct. "
   ]
  },
  {
   "cell_type": "code",
   "execution_count": 138,
   "id": "603651b5",
   "metadata": {},
   "outputs": [],
   "source": [
    "import numpy as np\n",
    "import matplotlib.pyplot as plt\n",
    "from sklearn.metrics import confusion_matrix, ConfusionMatrixDisplay\n"
   ]
  },
  {
   "cell_type": "code",
   "execution_count": 150,
   "id": "ae2bc187",
   "metadata": {},
   "outputs": [
    {
     "data": {
      "image/png": "[encoded data removed]",
      "text/plain": [
       "<Figure size 432x288 with 2 Axes>"
      ]
     },
     "metadata": {
      "needs_background": "light"
     },
     "output_type": "display_data"
    }
   ],
   "source": [
    "# Create and display the confusion matrix\n",
    "cm = confusion_matrix(y_test, y_pred)\n",
    "# Initialize the ConfusionMatrixDisplay object with the confusion matrix\n",
    "disp = ConfusionMatrixDisplay(confusion_matrix=cm, display_labels=clf.classes_)\n",
    "\n",
    "# Use the plot method to visualize the confusion matrix\n",
    "disp.plot(cmap=plt.cm.Blues)\n",
    "plt.title('Confusion Matrix')\n",
    "plt.show()\n"
   ]
  },
  {
   "cell_type": "markdown",
   "id": "8fbd5a36",
   "metadata": {},
   "source": [
    "# Elements of the Confusion Matrix:\n",
    "Top-Left Cell (131): True Negatives (TN) - The number of correct predictions that an instance is not potable (0).\n",
    "\n",
    "\n",
    " Top-Right Cell (53): False Positives (FP) - The number of incorrect predictions that an instance is potable (1), when it is actually not potable.\n",
    " \n",
    " \n",
    " Bottom-Left Cell (66): False Negatives (FN) - The number of incorrect predictions that an instance is not potable, when it is actually potable.\n",
    " \n",
    " \n",
    " Bottom-Right Cell (78): True Positives (TP) - The number of correct predictions that an instance is potable.\n",
    "\n",
    "# Interpretation:\n",
    " Class 0 (Not Potable): The model is more conservative when predicting potability, as indicated by a larger number of true negatives (131) compared to false positives (53).\n",
    " \n",
    " \n",
    " Class 1 (Potable): The model is somewhat more hesitant or has less ability to correctly identify potable instances, as shown by the nearly equal number of false negatives (120) and true positives (124).\n",
    "# Conclusions for Model Performance:\n",
    " The model is more likely to classify a sample as non-potable, possibly indicating a bias or maybe some misclassfication in the model.\n",
    " \n",
    " \n",
    " The relatively high number of false negatives suggests the model might benefit from being more sensitive to the potable class. Depending on the situation, this might be a significant issue, as failing to identify potable water could have serious costs.\n",
    " \n",
    " \n",
    " A potential area for improvement would be to reduce the number of false negatives, perhaps by adjusting the decision threshold or collecting more representative training data for the potable class."
   ]
  },
  {
   "cell_type": "markdown",
   "id": "ee09fb88",
   "metadata": {},
   "source": [
    "# Real World Application\n",
    "\n",
    "With better accuracy for deteching good water samples, this model can be ran on a small cpu with a mounted sensor attached to a reuseable water containter. If the sensor senses that the water inside isnt good, then it can alert the user before drinking. "
   ]
  },
  {
   "cell_type": "markdown",
   "id": "07fddd49",
   "metadata": {},
   "source": [
    "# Using KNN Classifcation"
   ]
  },
  {
   "cell_type": "code",
   "execution_count": 152,
   "id": "5bab5640",
   "metadata": {},
   "outputs": [
    {
     "name": "stdout",
     "output_type": "stream",
     "text": [
      "184\n",
      "0.5609756097560976\n"
     ]
    }
   ],
   "source": [
    "from sklearn.neighbors import KNeighborsClassifier\n",
    "classifier = KNeighborsClassifier(n_neighbors=3)\n",
    "classifier.fit(X_train, y_train)\n",
    "\n",
    "# Test the classifier by giving it test instances\n",
    "prediction = classifier.predict(X_test)\n",
    "\n",
    "# Count how many were correctly classified\n",
    "correct = np.where(prediction == y_test, 1, 0).sum()\n",
    "print(correct)\n",
    "\n",
    "# Calculate the accuracy of this classifier\n",
    "accuracy = correct/len(y_test)\n",
    "print(accuracy)"
   ]
  },
  {
   "cell_type": "markdown",
   "id": "f4ac11dc",
   "metadata": {},
   "source": [
    "## Ive run a K-Nearest Neighbors (KNN) classifier with n_neighbors have shared the output of the number of correct predictions and the calculated accuracy."
   ]
  },
  {
   "cell_type": "markdown",
   "id": "97a153a4",
   "metadata": {},
   "source": [
    "### Using KNN classifier, it correctly classified 184 instances out of the total instances in the test set (y_test). The accuracy, which is the proportion of true results among the total number of cases examined, is approximately 56.1%.\n",
    "\n",
    "\n",
    "\n",
    "### Correct Predictions (184): The classifier has made 184 correct predictions on the test set. \n",
    "\n",
    "### Accuracy (0.5609756097560976):The accuracy is about 56.1%."
   ]
  },
  {
   "cell_type": "markdown",
   "id": "6845e53b",
   "metadata": {},
   "source": [
    "# Plot accuracy as k changes\n",
    "Test the classifier using a range of values for k and plot the accuracy correspondiong to each k."
   ]
  },
  {
   "cell_type": "code",
   "execution_count": 155,
   "id": "2a1b789e",
   "metadata": {},
   "outputs": [
    {
     "name": "stdout",
     "output_type": "stream",
     "text": [
      "k= 1  Accuracy= 0.5853658536585366\n",
      "k= 3  Accuracy= 0.5609756097560976\n",
      "k= 5  Accuracy= 0.551829268292683\n",
      "k= 7  Accuracy= 0.5457317073170732\n",
      "k= 9  Accuracy= 0.5335365853658537\n",
      "k= 11  Accuracy= 0.5579268292682927\n",
      "k= 13  Accuracy= 0.5579268292682927\n",
      "k= 15  Accuracy= 0.5670731707317073\n",
      "k= 17  Accuracy= 0.5426829268292683\n",
      "k= 19  Accuracy= 0.5548780487804879\n",
      "k= 21  Accuracy= 0.5457317073170732\n",
      "k= 23  Accuracy= 0.5457317073170732\n",
      "k= 25  Accuracy= 0.551829268292683\n",
      "k= 27  Accuracy= 0.5548780487804879\n",
      "k= 29  Accuracy= 0.551829268292683\n",
      "k= 31  Accuracy= 0.5335365853658537\n",
      "k= 33  Accuracy= 0.5487804878048781\n",
      "k= 35  Accuracy= 0.5365853658536586\n",
      "k= 37  Accuracy= 0.5396341463414634\n",
      "k= 39  Accuracy= 0.5457317073170732\n",
      "k= 41  Accuracy= 0.5396341463414634\n",
      "k= 43  Accuracy= 0.5365853658536586\n",
      "k= 45  Accuracy= 0.5335365853658537\n",
      "k= 47  Accuracy= 0.5426829268292683\n",
      "k= 49  Accuracy= 0.5457317073170732\n"
     ]
    },
    {
     "data": {
      "image/png": "[encoded data removed]",
      "text/plain": [
       "<Figure size 432x288 with 1 Axes>"
      ]
     },
     "metadata": {
      "needs_background": "light"
     },
     "output_type": "display_data"
    }
   ],
   "source": [
    "# Start with an empty array where the results (k and corresponding accuracy) will be stored\n",
    "results = []\n",
    "\n",
    "for k in range(1, 51, 2):\n",
    "    classifier = KNeighborsClassifier(n_neighbors=k)\n",
    "    classifier.fit(X_train, y_train)\n",
    "    prediction = classifier.predict(X_test)\n",
    "    accuracy = np.where(prediction==y_test, 1, 0).sum() / (len(y_test))\n",
    "    print (\"k=\",k,\" Accuracy=\", accuracy)\n",
    "    results.append([k, accuracy]) # Storing the k,accuracy tuple in results array\n",
    "\n",
    "# Convert that series of tuples in a dataframe for easy plotting\n",
    "results = pd.DataFrame(results, columns=[\"k\", \"accuracy\"])\n",
    "\n",
    "plt.plot(results.k, results.accuracy)\n",
    "plt.title(\"Value of k and corresponding classification accuracy\")\n",
    "plt.show()"
   ]
  },
  {
   "cell_type": "markdown",
   "id": "e21bd0e7",
   "metadata": {},
   "source": [
    "# Interpretation:\n",
    " The KNN model started off well but eventually started occislating until it started to flatten out around 0.54-0.57\n",
    " \n",
    " \n",
    "# Conclusions for Model Performance:\n",
    " The model is more likely to classify a sample as non-potable, possibly indicating a bias or maybe some misclassfication in the model.\n",
    " \n",
    " \n",
    " The relatively high number of false negatives suggests the model might benefit from being more sensitive to the potable class. Depending on the situation, this might be a significant issue, as failing to identify potable water could have serious costs.\n",
    " \n",
    " \n",
    " A potential area for improvement would be to reduce the number of false negatives, perhaps by adjusting the decision threshold or collecting more representative training data for the potable class.\n",
    " \n",
    " \n",
    " Overall The decision Tree did overall better then the KNN Classifier. "
   ]
  },
  {
   "cell_type": "code",
   "execution_count": null,
   "id": "afe048fe",
   "metadata": {},
   "outputs": [],
   "source": []
  }
 ],
 "metadata": {
  "kernelspec": {
   "display_name": "Python 3 (ipykernel)",
   "language": "python",
   "name": "python3"
  },
  "language_info": {
   "codemirror_mode": {
    "name": "ipython",
    "version": 3
   },
   "file_extension": ".py",
   "mimetype": "text/x-python",
   "name": "python",
   "nbconvert_exporter": "python",
   "pygments_lexer": "ipython3",
   "version": "3.9.12"
  }
 },
 "nbformat": 4,
 "nbformat_minor": 5
}
